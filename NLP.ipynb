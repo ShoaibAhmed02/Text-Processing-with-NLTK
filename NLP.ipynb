{
  "nbformat": 4,
  "nbformat_minor": 0,
  "metadata": {
    "colab": {
      "provenance": []
    },
    "kernelspec": {
      "name": "python3",
      "display_name": "Python 3"
    },
    "language_info": {
      "name": "python"
    }
  },
  "cells": [
    {
      "cell_type": "code",
      "execution_count": 2,
      "metadata": {
        "id": "IOVYGF-SufkD"
      },
      "outputs": [],
      "source": [
        "import nltk"
      ]
    },
    {
      "cell_type": "code",
      "source": [
        "nltk.download(\"all\")"
      ],
      "metadata": {
        "id": "PZ9KzX8nvGxj"
      },
      "execution_count": null,
      "outputs": []
    },
    {
      "cell_type": "code",
      "source": [
        "from nltk.tokenize import sent_tokenize, word_tokenize"
      ],
      "metadata": {
        "id": "cebnzMx2vGr7"
      },
      "execution_count": 6,
      "outputs": []
    },
    {
      "cell_type": "code",
      "source": [
        "text=\"\"\" Muad'Dib learned rapidly because his first training was in how to learn.\n",
        " And the first lesson of all was the basic trust that he could learn.\n",
        " It's shocking to find how many people do not believe they can learn,\n",
        " and how many more believe learning to be difficult.\"\"\""
      ],
      "metadata": {
        "id": "VCcZ1GX5xxzl"
      },
      "execution_count": 7,
      "outputs": []
    },
    {
      "cell_type": "code",
      "source": [
        "sent_tokenize(text)"
      ],
      "metadata": {
        "colab": {
          "base_uri": "https://localhost:8080/"
        },
        "id": "l0vTF9GGxxqg",
        "outputId": "d20e6339-4012-4dfc-f84b-505b54181179"
      },
      "execution_count": 8,
      "outputs": [
        {
          "output_type": "execute_result",
          "data": {
            "text/plain": [
              "[\" Muad'Dib learned rapidly because his first training was in how to learn.\",\n",
              " 'And the first lesson of all was the basic trust that he could learn.',\n",
              " \"It's shocking to find how many people do not believe they can learn,\\n and how many more believe learning to be difficult.\"]"
            ]
          },
          "metadata": {},
          "execution_count": 8
        }
      ]
    },
    {
      "cell_type": "code",
      "source": [
        "word_tokenize(text)"
      ],
      "metadata": {
        "id": "--NFHvIWxxeF",
        "colab": {
          "base_uri": "https://localhost:8080/"
        },
        "outputId": "e7d9063e-563e-4336-a396-40b1c2464169"
      },
      "execution_count": 9,
      "outputs": [
        {
          "output_type": "execute_result",
          "data": {
            "text/plain": [
              "[\"Muad'Dib\",\n",
              " 'learned',\n",
              " 'rapidly',\n",
              " 'because',\n",
              " 'his',\n",
              " 'first',\n",
              " 'training',\n",
              " 'was',\n",
              " 'in',\n",
              " 'how',\n",
              " 'to',\n",
              " 'learn',\n",
              " '.',\n",
              " 'And',\n",
              " 'the',\n",
              " 'first',\n",
              " 'lesson',\n",
              " 'of',\n",
              " 'all',\n",
              " 'was',\n",
              " 'the',\n",
              " 'basic',\n",
              " 'trust',\n",
              " 'that',\n",
              " 'he',\n",
              " 'could',\n",
              " 'learn',\n",
              " '.',\n",
              " 'It',\n",
              " \"'s\",\n",
              " 'shocking',\n",
              " 'to',\n",
              " 'find',\n",
              " 'how',\n",
              " 'many',\n",
              " 'people',\n",
              " 'do',\n",
              " 'not',\n",
              " 'believe',\n",
              " 'they',\n",
              " 'can',\n",
              " 'learn',\n",
              " ',',\n",
              " 'and',\n",
              " 'how',\n",
              " 'many',\n",
              " 'more',\n",
              " 'believe',\n",
              " 'learning',\n",
              " 'to',\n",
              " 'be',\n",
              " 'difficult',\n",
              " '.']"
            ]
          },
          "metadata": {},
          "execution_count": 9
        }
      ]
    },
    {
      "cell_type": "code",
      "source": [
        "import nltk\n",
        "from nltk.corpus import stopwords\n",
        "from nltk.tokenize import sent_tokenize, word_tokenize"
      ],
      "metadata": {
        "id": "qiD5ye_VIR_j"
      },
      "execution_count": 13,
      "outputs": []
    },
    {
      "cell_type": "code",
      "source": [
        "text.lower();\n",
        "stop_words = set(stopwords.words(\"english\"))\n",
        "filtered_list = []\n",
        "for word in text:\n",
        "    if word.casefold() not in stop_words:\n",
        "           filtered_list.append(word)"
      ],
      "metadata": {
        "id": "dL6JC-EaxxNs"
      },
      "execution_count": 16,
      "outputs": []
    },
    {
      "cell_type": "code",
      "source": [
        "filtered_list"
      ],
      "metadata": {
        "id": "UfR8AzuY0Yob",
        "colab": {
          "base_uri": "https://localhost:8080/"
        },
        "outputId": "d9c4a9de-69c9-4a42-cd5e-2114c9b841ee"
      },
      "execution_count": 17,
      "outputs": [
        {
          "output_type": "execute_result",
          "data": {
            "text/plain": [
              "[' ',\n",
              " 'u',\n",
              " \"'\",\n",
              " 'b',\n",
              " ' ',\n",
              " 'l',\n",
              " 'e',\n",
              " 'r',\n",
              " 'n',\n",
              " 'e',\n",
              " ' ',\n",
              " 'r',\n",
              " 'p',\n",
              " 'l',\n",
              " ' ',\n",
              " 'b',\n",
              " 'e',\n",
              " 'c',\n",
              " 'u',\n",
              " 'e',\n",
              " ' ',\n",
              " 'h',\n",
              " ' ',\n",
              " 'f',\n",
              " 'r',\n",
              " ' ',\n",
              " 'r',\n",
              " 'n',\n",
              " 'n',\n",
              " 'g',\n",
              " ' ',\n",
              " 'w',\n",
              " ' ',\n",
              " 'n',\n",
              " ' ',\n",
              " 'h',\n",
              " 'w',\n",
              " ' ',\n",
              " ' ',\n",
              " 'l',\n",
              " 'e',\n",
              " 'r',\n",
              " 'n',\n",
              " '.',\n",
              " '\\n',\n",
              " ' ',\n",
              " 'n',\n",
              " ' ',\n",
              " 'h',\n",
              " 'e',\n",
              " ' ',\n",
              " 'f',\n",
              " 'r',\n",
              " ' ',\n",
              " 'l',\n",
              " 'e',\n",
              " 'n',\n",
              " ' ',\n",
              " 'f',\n",
              " ' ',\n",
              " 'l',\n",
              " 'l',\n",
              " ' ',\n",
              " 'w',\n",
              " ' ',\n",
              " 'h',\n",
              " 'e',\n",
              " ' ',\n",
              " 'b',\n",
              " 'c',\n",
              " ' ',\n",
              " 'r',\n",
              " 'u',\n",
              " ' ',\n",
              " 'h',\n",
              " ' ',\n",
              " 'h',\n",
              " 'e',\n",
              " ' ',\n",
              " 'c',\n",
              " 'u',\n",
              " 'l',\n",
              " ' ',\n",
              " 'l',\n",
              " 'e',\n",
              " 'r',\n",
              " 'n',\n",
              " '.',\n",
              " '\\n',\n",
              " ' ',\n",
              " \"'\",\n",
              " ' ',\n",
              " 'h',\n",
              " 'c',\n",
              " 'k',\n",
              " 'n',\n",
              " 'g',\n",
              " ' ',\n",
              " ' ',\n",
              " 'f',\n",
              " 'n',\n",
              " ' ',\n",
              " 'h',\n",
              " 'w',\n",
              " ' ',\n",
              " 'n',\n",
              " ' ',\n",
              " 'p',\n",
              " 'e',\n",
              " 'p',\n",
              " 'l',\n",
              " 'e',\n",
              " ' ',\n",
              " ' ',\n",
              " 'n',\n",
              " ' ',\n",
              " 'b',\n",
              " 'e',\n",
              " 'l',\n",
              " 'e',\n",
              " 'v',\n",
              " 'e',\n",
              " ' ',\n",
              " 'h',\n",
              " 'e',\n",
              " ' ',\n",
              " 'c',\n",
              " 'n',\n",
              " ' ',\n",
              " 'l',\n",
              " 'e',\n",
              " 'r',\n",
              " 'n',\n",
              " ',',\n",
              " '\\n',\n",
              " ' ',\n",
              " 'n',\n",
              " ' ',\n",
              " 'h',\n",
              " 'w',\n",
              " ' ',\n",
              " 'n',\n",
              " ' ',\n",
              " 'r',\n",
              " 'e',\n",
              " ' ',\n",
              " 'b',\n",
              " 'e',\n",
              " 'l',\n",
              " 'e',\n",
              " 'v',\n",
              " 'e',\n",
              " ' ',\n",
              " 'l',\n",
              " 'e',\n",
              " 'r',\n",
              " 'n',\n",
              " 'n',\n",
              " 'g',\n",
              " ' ',\n",
              " ' ',\n",
              " 'b',\n",
              " 'e',\n",
              " ' ',\n",
              " 'f',\n",
              " 'f',\n",
              " 'c',\n",
              " 'u',\n",
              " 'l',\n",
              " '.']"
            ]
          },
          "metadata": {},
          "execution_count": 17
        }
      ]
    },
    {
      "cell_type": "code",
      "source": [
        "from nltk.stem import PorterStemmer\n",
        "from nltk.tokenize import sent_tokenize, word_tokenize\n",
        "ps = PorterStemmer()\n",
        "example_words = [\"python\",\"pythoner\",\"pythoning\",\"pythoned\",\"pythonly\"]\n",
        "for w in example_words:\n",
        "  print(ps.stem(w))"
      ],
      "metadata": {
        "colab": {
          "base_uri": "https://localhost:8080/"
        },
        "id": "2HYIRzkJ0aFV",
        "outputId": "8b21d639-acc7-49da-8734-53f3596a7f01"
      },
      "execution_count": 18,
      "outputs": [
        {
          "output_type": "stream",
          "name": "stdout",
          "text": [
            "python\n",
            "python\n",
            "python\n",
            "python\n",
            "pythonli\n"
          ]
        }
      ]
    },
    {
      "cell_type": "code",
      "source": [],
      "metadata": {
        "id": "X0jdh_0q0Z8Z"
      },
      "execution_count": null,
      "outputs": []
    },
    {
      "cell_type": "code",
      "source": [],
      "metadata": {
        "id": "T75ptIdu0ZtX"
      },
      "execution_count": null,
      "outputs": []
    }
  ]
}